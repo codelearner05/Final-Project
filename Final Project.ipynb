{
 "cells": [
  {
   "cell_type": "markdown",
   "id": "d400c267-e67e-4a90-b718-f4802175fdcb",
   "metadata": {},
   "source": [
    "# Tools For Data Science Capstone Project"
   ]
  },
  {
   "cell_type": "markdown",
   "id": "ece9bfca-2828-4fb5-80d9-de0e1575f283",
   "metadata": {},
   "source": [
    "## Introduce to my notebook"
   ]
  },
  {
   "cell_type": "markdown",
   "id": "f4909fb6-ce48-4642-867e-c4e9635719b1",
   "metadata": {},
   "source": [
    "**Data Science Languages:**\n",
    "- Python  \n",
    "- R  \n",
    "- JavaScript  \n",
    "- Ruby  \n",
    "..."
   ]
  },
  {
   "cell_type": "markdown",
   "id": "9d7afb14-98f3-46f9-ba0c-0b99f6f0f547",
   "metadata": {},
   "source": [
    "**Data Science Libraries**\n",
    "- NumPy\n",
    "- Pandas\n",
    "- Matplotlib\n",
    "- Seaborn\n",
    "- Sklearn\n",
    "- PyTorch\n",
    "- ..."
   ]
  },
  {
   "cell_type": "markdown",
   "id": "9a0eadd8-4d01-435a-b679-8aef821be4d0",
   "metadata": {},
   "source": [
    "**Data Science Tools**\n",
    "- Jupyter Notebook\n",
    "- Jupyter Lab\n",
    "- IBM Waston \n",
    "- RStudio\n",
    "- Spider\n",
    "- Git/GitHub\n",
    "- PowerBI\n",
    "..."
   ]
  },
  {
   "cell_type": "markdown",
   "id": "ad92a020-1c03-4aac-8ea1-301c84af1436",
   "metadata": {},
   "source": [
    " **Addition (`+`)**: Adds two numbers.\n",
    "    ```python\n",
    "    result = 5 + 3  # result is 8\n",
    "    ```"
   ]
  },
  {
   "cell_type": "code",
   "execution_count": 9,
   "id": "f97778e5-5951-4674-a5c4-42a815a62a24",
   "metadata": {},
   "outputs": [
    {
     "data": {
      "text/plain": [
       "(8, 15)"
      ]
     },
     "execution_count": 9,
     "metadata": {},
     "output_type": "execute_result"
    }
   ],
   "source": [
    "a = 5\n",
    "b = 3\n",
    "a+b, a*b"
   ]
  },
  {
   "cell_type": "code",
   "execution_count": 11,
   "id": "4ffdabe6-050f-4185-97e0-1ac5a67012e3",
   "metadata": {},
   "outputs": [
    {
     "data": {
      "text/plain": [
       "0.75"
      ]
     },
     "execution_count": 11,
     "metadata": {},
     "output_type": "execute_result"
    }
   ],
   "source": [
    "minutes = 45\n",
    "hours = minutes / 60\n",
    "hours"
   ]
  },
  {
   "cell_type": "markdown",
   "id": "1d260366-2f78-4dab-ac78-6fff15e857b6",
   "metadata": {},
   "source": [
    "### Objectives\n",
    "\n",
    "1. Understand basic arithmetic operations in programming.\n",
    "2. Learn how to convert units (e.g., minutes to hours) using arithmetic expressions.\n",
    "3. Practice writing clean and efficient Python code for simple calculations.\n",
    "4. Apply programming concepts to real-world problems involving mathematical expressions.\n"
   ]
  },
  {
   "cell_type": "markdown",
   "id": "f2920ce3-b041-414c-8f48-c04179857371",
   "metadata": {},
   "source": [
    "### Author\n",
    "\n",
    "**William Duc**\n"
   ]
  },
  {
   "cell_type": "code",
   "execution_count": null,
   "id": "c3019c0f-2eb3-4720-8f65-783f150a7a6e",
   "metadata": {},
   "outputs": [],
   "source": []
  }
 ],
 "metadata": {
  "kernelspec": {
   "display_name": "Python 3 (ipykernel)",
   "language": "python",
   "name": "python3"
  },
  "language_info": {
   "codemirror_mode": {
    "name": "ipython",
    "version": 3
   },
   "file_extension": ".py",
   "mimetype": "text/x-python",
   "name": "python",
   "nbconvert_exporter": "python",
   "pygments_lexer": "ipython3",
   "version": "3.12.4"
  }
 },
 "nbformat": 4,
 "nbformat_minor": 5
}
